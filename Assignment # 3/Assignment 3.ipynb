{
 "cells": [
  {
   "cell_type": "code",
   "execution_count": 1,
   "id": "313171f5",
   "metadata": {},
   "outputs": [
    {
     "name": "stdout",
     "output_type": "stream",
     "text": [
      "Twinkle, twinkle, little star,\n",
      "\t How I wonder what you are!\n",
      "\t\t Up above the world so high,\n",
      "\t\t Like a diamond in the sky.\n",
      " Twinkle, twinkle, little star,\n",
      "\t How I wonder what you are \n"
     ]
    }
   ],
   "source": [
    "#Write a Python program to print the following string in a specific format (see theoutput).\n",
    "\n",
    "#Twinkle, twinkle, little star,\n",
    "    #How I wonder what you are!\n",
    "       #Up above the world so high,\n",
    "       #Like a diamond in the sky.\n",
    "#Twinkle, twinkle, little star,\n",
    "    #How I wonder what you are\n",
    "        \n",
    "        \n",
    "print(\"Twinkle, twinkle, little star,\\n\\t How I wonder what you are!\\n\\t\\t Up above the world so high,\\n\\t\\t Like a diamond in the sky.\\n Twinkle, twinkle, little star,\\n\\t How I wonder what you are \")       "
   ]
  },
  {
   "cell_type": "code",
   "execution_count": 2,
   "id": "331a6e37",
   "metadata": {},
   "outputs": [
    {
     "name": "stdout",
     "output_type": "stream",
     "text": [
      "version:\n",
      "3.8.8 (default, Apr 13 2021, 15:08:03) [MSC v.1916 64 bit (AMD64)]\n"
     ]
    }
   ],
   "source": [
    "#Write a Python program to get the Python version you are using.\n",
    "import sys\n",
    "print(\"version:\")\n",
    "print(sys.version)"
   ]
  },
  {
   "cell_type": "code",
   "execution_count": 3,
   "id": "4b5d81e5",
   "metadata": {},
   "outputs": [
    {
     "name": "stdout",
     "output_type": "stream",
     "text": [
      "Current date and time is : \n",
      "2021-10-24 09:45\n"
     ]
    }
   ],
   "source": [
    "#Write a Python program to display the current date and time.\n",
    "import datetime\n",
    "now = datetime.datetime.now()\n",
    "print (\"Current date and time is : \")\n",
    "print (now.strftime(\"%Y-%m-%d %H:%M\"))"
   ]
  },
  {
   "cell_type": "code",
   "execution_count": 4,
   "id": "3b69e94b",
   "metadata": {},
   "outputs": [
    {
     "name": "stdout",
     "output_type": "stream",
     "text": [
      "enter radius of cirle:12\n",
      "The area of the circle with radius 12.0 is: 452.3893421169302\n"
     ]
    }
   ],
   "source": [
    "from math import pi\n",
    "radius=float(input(\"enter radius of cirle:\"))\n",
    "print(\"The area of the circle with radius \" + str(radius) + \" is: \" + str(pi * radius**2))"
   ]
  },
  {
   "cell_type": "code",
   "execution_count": 6,
   "id": "6c9fb92e",
   "metadata": {},
   "outputs": [
    {
     "name": "stdout",
     "output_type": "stream",
     "text": [
      "Enter your First Name:nabeel\n",
      "Enter your Last Name:ahmed\n",
      "Welcome ahmed nabeel\n"
     ]
    }
   ],
   "source": [
    "#Write a Python program which accepts the user's first and last name and print them in reverse order with a space between them.\n",
    "first_name = input(\"Enter your First Name:\")\n",
    "last_name = input(\"Enter your Last Name:\")\n",
    "print(\"Welcome \" +last_name +\" \"+first_name)"
   ]
  },
  {
   "cell_type": "code",
   "execution_count": 7,
   "id": "8e78b6f4",
   "metadata": {},
   "outputs": [
    {
     "name": "stdout",
     "output_type": "stream",
     "text": [
      "Enter First value32\n",
      "Enter Second value56.33\n",
      "result= 88.33\n"
     ]
    }
   ],
   "source": [
    "#Write a python program which takes two inputs from user and print them addition\n",
    "first = int(input(\"Enter First value\"))\n",
    "second = float(input(\"Enter Second value\"))\n",
    "print(\"result=\",first+second)"
   ]
  },
  {
   "cell_type": "code",
   "execution_count": 8,
   "id": "e1a43502",
   "metadata": {},
   "outputs": [
    {
     "name": "stdout",
     "output_type": "stream",
     "text": [
      "Marks in English:78\n",
      "Marks in Maths:95\n",
      "Marks in Physics:60\n",
      "Marks in Chemistry:59\n",
      "Marks in Islamiat:55\n",
      "Your total score is 347\n",
      "Your percentage is 69.39999999999999\n",
      "Grade is B\n"
     ]
    }
   ],
   "source": [
    "#Write a program which takes 5 inputs from user for different subject’s marks, total it and generate mark sheet using grades \n",
    "eng = int(input(\"Marks in English:\"))\n",
    "math = int(input(\"Marks in Maths:\"))\n",
    "phy = int(input(\"Marks in Physics:\"))\n",
    "chem = int(input(\"Marks in Chemistry:\"))\n",
    "isl = int(input(\"Marks in Islamiat:\"))\n",
    "total = eng+math+phy+chem+isl\n",
    "print(\"Your total score is\",total)\n",
    "percentage=total/500*100\n",
    "print(\"Your percentage is\",percentage)\n",
    "\n",
    "if percentage < 100 and percentage > 80:\n",
    "    print(\"Grade is A+\")\n",
    "elif percentage < 80 and percentage > 70:\n",
    "    print(\"Grade is A\")\n",
    "elif percentage < 70 and percentage > 60:\n",
    "    print(\"Grade is B\")\n",
    "elif percentage < 60 and percentage > 50:\n",
    "    print(\"Grade is C\")\n",
    "elif percentage < 50 and percentage > 40:\n",
    "    print(\"Grade is D\")\n",
    "else:\n",
    "    print(\"Fail\")"
   ]
  },
  {
   "cell_type": "code",
   "execution_count": 9,
   "id": "6b7e6514",
   "metadata": {},
   "outputs": [
    {
     "name": "stdout",
     "output_type": "stream",
     "text": [
      "enter number:45\n",
      "The number is odd\n"
     ]
    }
   ],
   "source": [
    "#Write a program which take input from user and identify that the given number is even or odd?\n",
    "value = int(input(\"enter number:\"))\n",
    "mod = value %2\n",
    "if mod > 0:\n",
    "    print(\"The number is odd\")\n",
    "else:\n",
    "    print(\"The number is even\")"
   ]
  },
  {
   "cell_type": "code",
   "execution_count": 10,
   "id": "6b47f458",
   "metadata": {},
   "outputs": [
    {
     "data": {
      "text/plain": [
       "5"
      ]
     },
     "execution_count": 10,
     "metadata": {},
     "output_type": "execute_result"
    }
   ],
   "source": [
    "#Write a program which print the length of the list\n",
    "cities=[\"karachi\",\"lahore\",\"islamabad\",\"quetta\",\"peshawar\"]\n",
    "len(cities)"
   ]
  },
  {
   "cell_type": "code",
   "execution_count": 11,
   "id": "55f07b57",
   "metadata": {},
   "outputs": [
    {
     "name": "stdout",
     "output_type": "stream",
     "text": [
      "How many numeric values: 9\n",
      "Enter number:56\n",
      "Enter number:76\n",
      "Enter number:35\n",
      "Enter number:88\n",
      "Enter number:92\n",
      "Enter number:14\n",
      "Enter number:100\n",
      "Enter number:34\n",
      "Enter number:44\n",
      "sum of numeric values is:  539\n"
     ]
    }
   ],
   "source": [
    "#write a Python program to sum all the numeric items in a list?\n",
    "list_1 = []\n",
    "num = int(input(\"How many numeric values: \"))\n",
    "for n in range(num):\n",
    "    numbers = int(input(\"Enter number:\"))\n",
    "    list_1.append(numbers)\n",
    "print(\"sum of numeric values is: \",sum(list_1))"
   ]
  },
  {
   "cell_type": "code",
   "execution_count": 12,
   "id": "1cf89d5e",
   "metadata": {},
   "outputs": [
    {
     "name": "stdout",
     "output_type": "stream",
     "text": [
      "7\n"
     ]
    }
   ],
   "source": [
    "#write a Python program to get the largest number from a numeric list.\n",
    "def max_num_in_list(list):\n",
    "    max = list[0]\n",
    "    for a in list:\n",
    "        if a > max:\n",
    "            max = a\n",
    "    return max\n",
    "print(max_num_in_list([1,5,7,-9]))"
   ]
  },
  {
   "cell_type": "code",
   "execution_count": 13,
   "id": "6bfc65f1",
   "metadata": {},
   "outputs": [
    {
     "name": "stdout",
     "output_type": "stream",
     "text": [
      "1\n",
      "1\n",
      "2\n",
      "3\n"
     ]
    }
   ],
   "source": [
    "a =[1, 1, 2, 3, 5, 8, 13, 21, 34, 55, 89]\n",
    "for x in a:\n",
    "    if x < 5:\n",
    "        print(x)"
   ]
  },
  {
   "cell_type": "code",
   "execution_count": null,
   "id": "e52fd2b8",
   "metadata": {},
   "outputs": [],
   "source": []
  }
 ],
 "metadata": {
  "kernelspec": {
   "display_name": "Python 3",
   "language": "python",
   "name": "python3"
  },
  "language_info": {
   "codemirror_mode": {
    "name": "ipython",
    "version": 3
   },
   "file_extension": ".py",
   "mimetype": "text/x-python",
   "name": "python",
   "nbconvert_exporter": "python",
   "pygments_lexer": "ipython3",
   "version": "3.8.8"
  }
 },
 "nbformat": 4,
 "nbformat_minor": 5
}
