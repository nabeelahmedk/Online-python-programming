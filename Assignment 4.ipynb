{
 "cells": [
  {
   "cell_type": "code",
   "execution_count": null,
   "id": "48acbeb5",
   "metadata": {},
   "outputs": [],
   "source": [
    "#Make a calculator using Python with addition , subtraction ,multiplication ,division and power."
   ]
  },
  {
   "cell_type": "code",
   "execution_count": 2,
   "id": "3775f3f2",
   "metadata": {},
   "outputs": [
    {
     "name": "stdout",
     "output_type": "stream",
     "text": [
      "OPERATORS\n",
      "+ : Addition\n",
      "- : Subtraction\n",
      "* : Multiplication\n",
      "/ : Division\n",
      "** : Power\n",
      "Enter first number: 2311.3\n",
      "Enter operator: -\n",
      "Enter second number: 1223\n",
      "result=1088.3000000000002\n"
     ]
    }
   ],
   "source": [
    "print(\"OPERATORS\")\n",
    "print(\"+ : Addition\")\n",
    "print(\"- : Subtraction\")\n",
    "print(\"* : Multiplication\")\n",
    "print(\"/ : Division\")\n",
    "print(\"** : Power\")\n",
    "\n",
    "num1=float(input(\"Enter first number: \"))\n",
    "operation=input(\"Enter operator: \")\n",
    "num2=float(input(\"Enter second number: \"))\n",
    "\n",
    "if operation== \"+\":\n",
    "    print(\"result=\" + str(num1+num2))\n",
    "elif operation== \"-\":\n",
    "    print(\"result=\" + str(num1-num2))\n",
    "elif operation== \"*\":\n",
    "    print(\"result=\" + str(num1*num2))\n",
    "elif operation== \"/\":\n",
    "    print(\"result=\" + str(num1/num2))\n",
    "elif operation== \"**\":\n",
    "    print(\"result=\" + str(num1**num2)) "
   ]
  },
  {
   "cell_type": "code",
   "execution_count": 3,
   "id": "072a152e",
   "metadata": {},
   "outputs": [],
   "source": [
    "#Write a program to check if there is any numeric value in list using for loop."
   ]
  },
  {
   "cell_type": "code",
   "execution_count": 4,
   "id": "71ee82aa",
   "metadata": {},
   "outputs": [
    {
     "name": "stdout",
     "output_type": "stream",
     "text": [
      "123\n"
     ]
    }
   ],
   "source": [
    "list =['apple','bananana',123,'mango','peach']\n",
    "for x in list:\n",
    "    if type(x)==int :\n",
    "        print(x)"
   ]
  },
  {
   "cell_type": "code",
   "execution_count": 5,
   "id": "5b89e93d",
   "metadata": {},
   "outputs": [],
   "source": [
    "#Write a Python script to add a key to a dictionary."
   ]
  },
  {
   "cell_type": "code",
   "execution_count": 7,
   "id": "fd6674ca",
   "metadata": {},
   "outputs": [
    {
     "name": "stdout",
     "output_type": "stream",
     "text": [
      "{0: 100, 1: 200}\n",
      "{0: 100, 1: 200, 2: 300}\n"
     ]
    }
   ],
   "source": [
    "d={0:100,1:200}\n",
    "print(d)\n",
    "d.update({2:300})\n",
    "print(d)"
   ]
  },
  {
   "cell_type": "code",
   "execution_count": 8,
   "id": "6b3fa822",
   "metadata": {},
   "outputs": [],
   "source": [
    "#Write a Python program to sum all the numeric items in a dictionary."
   ]
  },
  {
   "cell_type": "code",
   "execution_count": 9,
   "id": "7982de23",
   "metadata": {},
   "outputs": [
    {
     "name": "stdout",
     "output_type": "stream",
     "text": [
      "424\n"
     ]
    }
   ],
   "source": [
    "new_dict={'value1':125,'value2':342,'value3':-43}\n",
    "print(sum(new_dict.values()))"
   ]
  },
  {
   "cell_type": "code",
   "execution_count": null,
   "id": "57145d5e",
   "metadata": {},
   "outputs": [],
   "source": [
    "#Write a program to identify duplicate values from list."
   ]
  },
  {
   "cell_type": "code",
   "execution_count": 19,
   "id": "34507f5f",
   "metadata": {},
   "outputs": [
    {
     "name": "stdout",
     "output_type": "stream",
     "text": [
      "5413579"
     ]
    }
   ],
   "source": [
    "list=[10,9,8,1,4,5,7,6,5,4,3,2,1,3,5,7,9]\n",
    "l1=[]\n",
    "for x in list :\n",
    "    if x not in l1:\n",
    "        l1.append(x)\n",
    "    else:\n",
    "        print(x, end= '')"
   ]
  },
  {
   "cell_type": "code",
   "execution_count": 20,
   "id": "81506ff0",
   "metadata": {},
   "outputs": [],
   "source": [
    "#Write a Python script to check if a given key already exists in a dictionary"
   ]
  },
  {
   "cell_type": "code",
   "execution_count": 25,
   "id": "3775bb23",
   "metadata": {},
   "outputs": [
    {
     "name": "stdout",
     "output_type": "stream",
     "text": [
      "Given dictionary : {'JAN': 0, 'FEB': 1, 'MAR': 2, 'APR': 3, 'MAY': 4, 'JUN': 5}\n",
      "FEB Already Exist.\n"
     ]
    }
   ],
   "source": [
    "my_dict={'JAN':0,'FEB':1,'MAR':2,'APR':3,'MAY':4,'JUN':5}\n",
    "print(\"Given dictionary :\",my_dict)\n",
    "check_key=\"FEB\"\n",
    "if check_key in my_dict.keys():\n",
    "    print(check_key,\"Already Exist.\")\n",
    "else:\n",
    "    print(check_key, \" Does not Exist.\")"
   ]
  },
  {
   "cell_type": "code",
   "execution_count": null,
   "id": "537e8182",
   "metadata": {},
   "outputs": [],
   "source": []
  }
 ],
 "metadata": {
  "kernelspec": {
   "display_name": "Python 3",
   "language": "python",
   "name": "python3"
  },
  "language_info": {
   "codemirror_mode": {
    "name": "ipython",
    "version": 3
   },
   "file_extension": ".py",
   "mimetype": "text/x-python",
   "name": "python",
   "nbconvert_exporter": "python",
   "pygments_lexer": "ipython3",
   "version": "3.8.8"
  }
 },
 "nbformat": 4,
 "nbformat_minor": 5
}
